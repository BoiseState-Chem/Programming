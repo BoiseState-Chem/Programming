{
 "cells": [
  {
   "cell_type": "markdown",
   "metadata": {},
   "source": [
    "Student's Name and Email Address\n",
    "\n",
    "Boise State University, Department of Chemistry and Biochemistry"
   ]
  },
  {
   "cell_type": "markdown",
   "metadata": {},
   "source": [
    "## CHEM 324: PChem Lab\n",
    "# Worksheet 1: Python Programming and Data Analysis"
   ]
  },
  {
   "cell_type": "markdown",
   "metadata": {},
   "source": [
    "For the following tasks you will be using the main Python modules discussed in the first notebooks of the course and reported in the following import statement"
   ]
  },
  {
   "cell_type": "code",
   "execution_count": null,
   "metadata": {},
   "outputs": [],
   "source": [
    "import numpy as np\n",
    "import matplotlib.pyplot as plt\n",
    "import pandas as pd\n",
    "from sklearn.linear_model import LinearRegression\n",
    "from scipy.stats import sem, norm, t"
   ]
  },
  {
   "cell_type": "code",
   "execution_count": null,
   "metadata": {},
   "outputs": [],
   "source": [
    "from google.colab import drive\n",
    "drive.mount('/content/gdrive')"
   ]
  },
  {
   "cell_type": "markdown",
   "metadata": {},
   "source": [
    "You should now specify the local path to the folder containing your data files. Remember to put a '/' at the end of the path and double check that the path looks right"
   ]
  },
  {
   "cell_type": "code",
   "execution_count": null,
   "metadata": {},
   "outputs": [],
   "source": [
    "base_path = '/content/gdrive/MyDrive/' # this is the default path of your google drive\n",
    "my_path = 'Colab Notebooks/Test_Files/' # make sure you change this to the correct path of the folder with the files\n",
    "path = base_path + my_path"
   ]
  },
  {
   "cell_type": "markdown",
   "metadata": {},
   "source": [
    "## Task 1: Reporting Measures and Errors"
   ]
  },
  {
   "cell_type": "markdown",
   "metadata": {},
   "source": [
    "In the following array you are given a set of measures of the temperature of a sample (in Kelvin), taken at constant conditions and regular time intervals. We want to use the collection of measures to report our best estimate of the temperature of our experiment, together with its associated error, expressed as the 95% confidence interval.  "
   ]
  },
  {
   "cell_type": "code",
   "execution_count": null,
   "metadata": {},
   "outputs": [],
   "source": [
    "measures = np.array([296.74540119, 302.50714306, 300.31993942, 298.98658484, 294.56018640,\n",
    " 294.55994520,  293.58083612, 301.66176146, 299.01115012, 300.08072578,\n",
    " 293.20584494, 302.69909852, 301.32442641, 295.12339111, 294.81824967,\n",
    " 294.83404510,  296.04242243, 298.24756432, 297.31945019, 295.91229140])"
   ]
  },
  {
   "cell_type": "markdown",
   "metadata": {},
   "source": [
    "Task 1.1: In the following cell write your best estimate of the temperature of the sample. You can use Python to perform the calculation and save it in a variable called estimate, or you can write directly the calculation inside the format. Make sure you format your number according to how many digits are actually significant. NOTE: You may want to adjut the number of significant figures after you have computed the confidence interval (next step)."
   ]
  },
  {
   "cell_type": "code",
   "execution_count": null,
   "metadata": {},
   "outputs": [],
   "source": [
    "estimate =\n",
    "print(f\"The best estimate of the temperature of the sample is {estimate} K\")"
   ]
  },
  {
   "cell_type": "markdown",
   "metadata": {},
   "source": [
    "Task 1.2: In the following cell write the error associated with your estimate, defined as the 95% confidence interval. You can use Python to perform the calculation and save it in a variable called error, or you can write directly the calculation inside the format. Make sure you format your number according to how many digits are actually relevant (usually only the first one).\n",
    "\n",
    "Before performing the calculation, you may want to think about which statistical distribution you want to use: the normal distribution or the student's t distributon?"
   ]
  },
  {
   "cell_type": "code",
   "execution_count": null,
   "metadata": {},
   "outputs": [],
   "source": [
    "error_ci95 =\n",
    "print(f\"The 95% confidence interval for our estimate is \\u00B1 {error_ci95} K\")"
   ]
  },
  {
   "cell_type": "markdown",
   "metadata": {},
   "source": [
    "Task 1.3: How different are the results using the Student's t instead of the normal distribution?"
   ]
  },
  {
   "cell_type": "markdown",
   "metadata": {},
   "source": [
    "Task 1.4: Your labmate has been lazy and, instead of 20 values, they decided to measure only 4. What is your estimate and confidence interval in this case?"
   ]
  },
  {
   "cell_type": "code",
   "execution_count": null,
   "metadata": {},
   "outputs": [],
   "source": [
    "lazy_measures = np.array([296.74540119, 302.50714306, 300.31993942, 298.98658484])"
   ]
  },
  {
   "cell_type": "markdown",
   "metadata": {},
   "source": [
    "## Task 2: Reading and Checking a Challenging CSV File"
   ]
  },
  {
   "cell_type": "markdown",
   "metadata": {},
   "source": [
    "For the second task, you will need to find a way to read the file `ta.csv`. You can find this file on [GitHub](https://github.com/BoiseState-Chem/Programming/blob/main/Test_Files/ta.csv) or in the [Canvas page](https://boisestatecanvas.instructure.com/courses/27670/files/14071187?wrap=1) of the assignment. This is a csv file, but it has some peculiar issues:\n",
    "\n",
    "* it uses spaces as separator\n",
    "* it uses a comma instead of a dot for the decimal numbers\n",
    "* There is an extra line at the beginning and an extra line at the end of the file\n",
    "\n",
    "Task 2.1: Use the capabilities of `Pandas.read_csv()` function, to read this file into a `DataFrame`."
   ]
  },
  {
   "cell_type": "code",
   "execution_count": null,
   "metadata": {},
   "outputs": [],
   "source": [
    "file = 'ta.csv'\n",
    "data = pd.read_csv(path+file)"
   ]
  },
  {
   "cell_type": "markdown",
   "metadata": {},
   "source": [
    "Task 2.2: Answer the following questions using `DataFrame` functionalities. Make sure to show your Python work, leaving the commands that you used in the notebook or referring to them in your answers.\n",
    "\n",
    "* How many rows and columns of data are in the file?   \n",
    "\n",
    "* What is the first recorded value of the laser delay time?\n",
    "\n",
    "* What is the last recorded value of the transient absorption in run 3 (i.e., in the column labelled TA3)?\n",
    "\n",
    "* What is the peak value of the transient absorption in run 4 (i.e., the maximum value)?"
   ]
  },
  {
   "cell_type": "markdown",
   "metadata": {},
   "source": [
    "Task 2.3: Make a plot that shows at least two of the transient absorption curves as a function of the laser delay."
   ]
  },
  {
   "cell_type": "markdown",
   "metadata": {},
   "source": [
    "## Task 3: Math on Datasets"
   ]
  },
  {
   "cell_type": "markdown",
   "metadata": {},
   "source": [
    "For all the tasks that follow you wil be working with a dataset created by your instructor, named `protein.csv`. You can find this file on [GitHub](https://github.com/BoiseState-Chem/Programming/blob/main/Test_Files/protein.csv) or in the [Canvas page](https://boisestatecanvas.instructure.com/courses/27670/files/14071185?wrap=1) of the assignment. The data file contains more than 700 rows of data related to the atoms of a small protein (an insulin mutant, entry 1A7F in the Protein Data Bank). For each atom the file report the element label (first column), some properties that are related to how close to the surface of the protein the atom is, as well as the cartesian coordinates (X,Y,Z, in the last three columns) of that atom, as obtained from crystallographic data, the atomic mass of the atom (MASS), and its distance from the center of mass of the protein (R_vs_COM). Units for all the reported columns can be assumed to be atomic units (a.u.)."
   ]
  },
  {
   "cell_type": "markdown",
   "metadata": {},
   "source": [
    "Use `Pandas` to load the file into a `DataFrame`."
   ]
  },
  {
   "cell_type": "code",
   "execution_count": null,
   "metadata": {},
   "outputs": [],
   "source": [
    "file = 'protein.csv'\n",
    "protein = pd.read_csv(path+file)"
   ]
  },
  {
   "cell_type": "markdown",
   "metadata": {},
   "source": [
    "Task 3.1: Answer the following questions related to the dataset. Make sure to show your Python work, leaving the commands that you used in the notebook or referring to them in your answers."
   ]
  },
  {
   "cell_type": "code",
   "execution_count": null,
   "metadata": {},
   "outputs": [],
   "source": [
    "# How many atoms are in the protein?\n",
    "print(f\"The file contains {} atoms\")\n",
    "# How many of these are nitrogen atoms?\n",
    "print(f\"The protein has {} N atoms\")\n",
    "# What is the total mass of the protein?\n",
    "print(f\"The protein has a mass of {} atomic units\")"
   ]
  },
  {
   "cell_type": "markdown",
   "metadata": {},
   "source": [
    "Task 3.2: From the knowledge of the positions of the atoms, $\\vec{R}_i$, and their masses, $m_i$, we can compute the coordinates of the center of mass of the protein $\\vec{r}_{com}=\\frac{1}{M_{tot}}\\sum{m_i\\vec{R}_i}$, where $M_{tot}$ is the total mass.\n",
    "\n",
    "While you can solve this task using `for` loops, try doing the math directly on the columns of the `DataFrame`. You may want to write the vector that you need to compute in terms of its three components:\n",
    "\n",
    "$$x_{cm}=\\frac{1}{M_{tot}}\\sum{m_i{X}_i}$$\n",
    "$$y_{cm}=\\frac{1}{M_{tot}}\\sum{m_i{Y}_i}$$\n",
    "$$z_{cm}=\\frac{1}{M_{tot}}\\sum{m_i{Z}_i}$$\n",
    "\n",
    "where $X_i$, $Y_i$, and $Z_i$ are the coordinates of the atoms and correspond to the 'X', 'Y', 'Z' columns of the `DataFrame`. NOTE: you can sum over all the values in a colum, with the `np.sum()` function or with the `df['Column-Name'].sum()` method."
   ]
  },
  {
   "cell_type": "code",
   "execution_count": null,
   "metadata": {},
   "outputs": [],
   "source": [
    "xcm =\n",
    "ycm =\n",
    "zcm =\n",
    "print(f\"The coordinates of the center of mass of the protein are {xcm} {ycm} {zcm}\")"
   ]
  },
  {
   "cell_type": "markdown",
   "metadata": {},
   "source": [
    "## Task 4: Linear Regression"
   ]
  },
  {
   "cell_type": "markdown",
   "metadata": {},
   "source": [
    "Still working on the data from the `protein.csv` file, extract the values corresponding to the SUR_CONT_15.0 and R_vs_COM columns.\n",
    "\n",
    "Task 4.1: Characterize the frequency distribution of these two data sets. You can do this by making histogram plots and by looking at their means and standard deviations."
   ]
  },
  {
   "cell_type": "markdown",
   "metadata": {},
   "source": [
    "Task 4.2: Check if there is any relation between the two variables above. You can do this with a scatter plot."
   ]
  },
  {
   "cell_type": "markdown",
   "metadata": {},
   "source": [
    "Feel free to comment on what is shown in the plot here."
   ]
  },
  {
   "cell_type": "markdown",
   "metadata": {},
   "source": [
    "Task 4.3: Can we use the selected feature (SUR_CONT_15.0) to predict the distance of the atom from the center of mass of the protein (R_vs_COM)? Use a linear regression algorithm from `Sklearn` to perform a fit of a linear model. Plot the fit together with the data"
   ]
  },
  {
   "cell_type": "code",
   "execution_count": null,
   "metadata": {},
   "outputs": [],
   "source": [
    "lr = LinearRegression()"
   ]
  },
  {
   "cell_type": "markdown",
   "metadata": {},
   "source": [
    "Task 4.4: How good is your fit? Compute the fit's correlation score."
   ]
  },
  {
   "cell_type": "markdown",
   "metadata": {},
   "source": [
    "Add your comments on the results here."
   ]
  },
  {
   "cell_type": "markdown",
   "metadata": {},
   "source": [
    "## Bonus Task"
   ]
  },
  {
   "cell_type": "markdown",
   "metadata": {},
   "source": [
    "1. Out of all the variables named SUR_CONT_... and VOL_CONT_..., which one is the best to predict R_vs_COM using a linear model?\n",
    "2. Can you improve on the prediction of R_vs_COM using more than one variable?"
   ]
  }
 ],
 "metadata": {
  "colab": {
   "provenance": []
  },
  "kernelspec": {
   "display_name": "Python 3",
   "language": "python",
   "name": "python3"
  },
  "language_info": {
   "codemirror_mode": {
    "name": "ipython",
    "version": 3
   },
   "file_extension": ".py",
   "mimetype": "text/x-python",
   "name": "python",
   "nbconvert_exporter": "python",
   "pygments_lexer": "ipython3"
  }
 },
 "nbformat": 4,
 "nbformat_minor": 4
}
