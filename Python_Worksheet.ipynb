{
 "cells": [
  {
   "cell_type": "markdown",
   "metadata": {},
   "source": [
    "Student's Name and Email Address\n",
    "\n",
    "Boise State University, Department of Chemistry and Biochemistry"
   ]
  },
  {
   "attachments": {},
   "cell_type": "markdown",
   "metadata": {},
   "source": [
    "## CHEM 324: PChem Lab\n",
    "# Worksheet 1: Python Programming and Data Analysis"
   ]
  },
  {
   "attachments": {},
   "cell_type": "markdown",
   "metadata": {},
   "source": [
    "For the following tasks you will be using the main Python modules discussed in the first two notebooks of the course and reported in the following import statement"
   ]
  },
  {
   "cell_type": "code",
   "execution_count": null,
   "metadata": {},
   "outputs": [],
   "source": [
    "import numpy as np\n",
    "import matplotlib.pyplot as plt\n",
    "import pandas as pd\n",
    "from sklearn.linear_model import LinearRegression"
   ]
  },
  {
   "attachments": {},
   "cell_type": "markdown",
   "metadata": {},
   "source": [
    "## Task 1: Reporting Measures and Errors"
   ]
  },
  {
   "attachments": {},
   "cell_type": "markdown",
   "metadata": {},
   "source": [
    "In the following array you are given a set of measures of the temperature of a sample (in Kelvin degrees), taken at constant conditions and regular time intervals. We want to use the collection of measures to report our best estimate of the temperature of our experiment, together with its associated error, expressed as the 95% confidence interval.  "
   ]
  },
  {
   "cell_type": "code",
   "execution_count": null,
   "metadata": {},
   "outputs": [],
   "source": [
    "measures=np.array([295.31473841, 300.11525951, 299.27973374, 296.93085542,\n",
    "       300.84263973, 295.15604355, 301.3428618 , 301.69562745,\n",
    "       293.58772582, 293.44478922, 302.85035274, 297.36732316,\n",
    "       300.66148139, 296.55033583, 293.17159106, 296.02160649,\n",
    "       299.01641019, 295.21326926, 300.7383257 , 298.9328202 ])"
   ]
  },
  {
   "attachments": {},
   "cell_type": "markdown",
   "metadata": {},
   "source": [
    "In the following cell write your best estimate of the temperature of the sample. You can use Python to perform the calculation and save it in a variable called estimate, or you can write directly the calculation inside the format. Make sure you format your number according to how many digits are actually significant."
   ]
  },
  {
   "cell_type": "code",
   "execution_count": null,
   "metadata": {},
   "outputs": [],
   "source": [
    "print(\"The best estimate of the temperature of the sample is {} K\".format(estimate))"
   ]
  },
  {
   "attachments": {},
   "cell_type": "markdown",
   "metadata": {},
   "source": [
    "In the following cell write the error associated with your estimate, defined as the 95% confidence interval. You can use Python to perform the calculation and save it in a variable called error, or you can write directly the calculation inside the format. Make sure you format your number according to how many digits are actually relevant."
   ]
  },
  {
   "cell_type": "code",
   "execution_count": null,
   "metadata": {},
   "outputs": [],
   "source": [
    "print(\"The 95% confidence interval for our estimate is \\u00B1 {} K\".format(error))"
   ]
  },
  {
   "attachments": {},
   "cell_type": "markdown",
   "metadata": {},
   "source": [
    "## Task 2: Loading Files and Basic Plotting"
   ]
  },
  {
   "attachments": {},
   "cell_type": "markdown",
   "metadata": {},
   "source": [
    "For all the tasks that follow you wil be working with a dataset created by your instructor. You can download the protein.csv file from Canvas or from this [link](). The data file contains more than 700 rows of data related to the atoms of a small protein (an insulin mutant, entry 1A7F in the Protein Data Bank). For each atom the file report the element label (first column), some properties that are related to how close to the surface of the protein the atom is, as well as the cartesian coordinates (X,Y,Z, in the last three columns) of that atom, as obtained from crystallographic data, the atomic mass of the atom (MASS), and its distance from the center of mass of the protein (R_vs_COM). "
   ]
  },
  {
   "attachments": {},
   "cell_type": "markdown",
   "metadata": {},
   "source": [
    "Use `Pandas` to load the file into a `DataFrame`."
   ]
  },
  {
   "cell_type": "code",
   "execution_count": null,
   "metadata": {},
   "outputs": [],
   "source": [
    "protein=pd.read_csv('protein.csv')"
   ]
  },
  {
   "attachments": {},
   "cell_type": "markdown",
   "metadata": {},
   "source": [
    "Answer the following questions related to the dataset. NOTE: while you can answer some of these questions just by looking at the file, please write your answers using Python commands."
   ]
  },
  {
   "cell_type": "code",
   "execution_count": null,
   "metadata": {},
   "outputs": [],
   "source": [
    "# How many atoms are in the protein?\n",
    "print(\"The file contains {} atoms\".format())\n",
    "# How many of these are carbon atoms?\n",
    "print(\"The protein has {} C atoms\".format())\n",
    "# What is the total mass of the protein?\n",
    "print(\"The protein has a mass of {} atomic units\".format())"
   ]
  },
  {
   "attachments": {},
   "cell_type": "markdown",
   "metadata": {},
   "source": [
    "Extract the data corresponding to the SUR_CONT_5.0 and VOL_CONT_5.0 columns. Characterize the frequency distribution of these two data sets. You can do this by making histogram plots and by looking at their means and standard deviations."
   ]
  },
  {
   "attachments": {},
   "cell_type": "markdown",
   "metadata": {},
   "source": [
    "Check if there is any relation between the two variables above. You can do this with a scatter plot."
   ]
  },
  {
   "attachments": {},
   "cell_type": "markdown",
   "metadata": {},
   "source": [
    "Feel free to comment on what is shown in the plot here. "
   ]
  },
  {
   "attachments": {},
   "cell_type": "markdown",
   "metadata": {},
   "source": [
    "## Task 3: Math on Datasets"
   ]
  },
  {
   "attachments": {},
   "cell_type": "markdown",
   "metadata": {},
   "source": [
    "From the knowledge of the positions of the atoms, $\\vec{R}_i$, and their masses, $m_i$, we can compute the coordinates of the center of mass of the protein $\\vec{r}_{com}=\\sum{m_i\\vec{R}_i}$. You can do this using a `for` loop or by doing math directly on the `DataFrame` columns. "
   ]
  },
  {
   "cell_type": "code",
   "execution_count": null,
   "metadata": {},
   "outputs": [],
   "source": [
    "print(\"The coordinates of the center of mass of the protein are {} {} {}\".format())"
   ]
  },
  {
   "attachments": {},
   "cell_type": "markdown",
   "metadata": {},
   "source": [
    "## Task 4: Linear Regression"
   ]
  },
  {
   "attachments": {},
   "cell_type": "markdown",
   "metadata": {},
   "source": [
    "Consider the feature named VOL_CONT_20.0. Can we use it to predict the distance of the atom from the center of mass of the protein (R_vs_COM)? Use a linear regression algorithm from `Sklearn` to perform a fit of a linear model."
   ]
  },
  {
   "cell_type": "code",
   "execution_count": null,
   "metadata": {},
   "outputs": [],
   "source": [
    "linear_regression=LinearRegression()"
   ]
  },
  {
   "attachments": {},
   "cell_type": "markdown",
   "metadata": {},
   "source": [
    "How good is your fit? Plot the fit together with the data and compute its correlation score."
   ]
  },
  {
   "attachments": {},
   "cell_type": "markdown",
   "metadata": {},
   "source": [
    "Add your comments on the results here."
   ]
  },
  {
   "attachments": {},
   "cell_type": "markdown",
   "metadata": {},
   "source": [
    "## Bonus Task"
   ]
  },
  {
   "attachments": {},
   "cell_type": "markdown",
   "metadata": {},
   "source": [
    "1. Out of all the variables named SUR_CONT_... and VOL_CONT_..., which one is the best to predict R_vs_COM using a linear model?\n",
    "2. Can you improve on the prediction of R_vs_COM using more than one variable? "
   ]
  }
 ],
 "metadata": {
  "kernelspec": {
   "display_name": "Python 3",
   "language": "python",
   "name": "python3"
  },
  "language_info": {
   "codemirror_mode": {
    "name": "ipython",
    "version": 3
   },
   "file_extension": ".py",
   "mimetype": "text/x-python",
   "name": "python",
   "nbconvert_exporter": "python",
   "pygments_lexer": "ipython3"
  },
  "vscode": {
   "interpreter": {
    "hash": "949777d72b0d2535278d3dc13498b2535136f6dfe0678499012e853ee9abcab1"
   }
  }
 },
 "nbformat": 4,
 "nbformat_minor": 2
}
