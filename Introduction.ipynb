{
 "cells": [
  {
   "attachments": {},
   "cell_type": "markdown",
   "metadata": {},
   "source": [
    "Dr Oliviero Andreussi, olivieroandreuss@boisestate.edu\n",
    "\n",
    "Boise State University, Department of Chemistry and Biochemistry"
   ]
  },
  {
   "attachments": {},
   "cell_type": "markdown",
   "metadata": {},
   "source": [
    "# Introduction to Programming in Python"
   ]
  },
  {
   "attachments": {},
   "cell_type": "markdown",
   "metadata": {},
   "source": [
    "## Getting Started\n",
    "This file is a Jupyter notebook, a special way of writing Python programs that allows us to insert comments, formulas, images in between programming blocks. These comments are written using a very basic formatting tool called Markdown, which allows us to be a bit more fancy than just plain text. You can find a cheat sheet on writing Markdown [here](https:www.markdownguide.org/cheat-sheet/)."
   ]
  },
  {
   "attachments": {},
   "cell_type": "markdown",
   "metadata": {},
   "source": [
    "Before we start with the actual programming, please take a few minutes to complete the following survey. This is not graded! It is only meant to gauge the overall class proficiency with programming and Python.\n",
    "\n",
    "[Take the survey here](https://forms.gle/AsPzXqz3sfDS2Tri9)"
   ]
  },
  {
   "attachments": {},
   "cell_type": "markdown",
   "metadata": {},
   "source": [
    "Now that you have taken the survey, let's write our first Python command. Create a Code box below this one (hoover on the space between boxes or use the + Code button) and type\n",
    "\n",
    " `print(\"Hello world!\")` \n",
    " \n",
    " and execute the command (you can either press the run button on the left or you can press the SHIFT+ENTER keys)"
   ]
  },
  {
   "attachments": {},
   "cell_type": "markdown",
   "metadata": {},
   "source": [
    "Congratulations! You have now written your first command, hopefully not the last. Before we move forward to introducing more programming concepts, let's play a bit with the following game. \n",
    "\n",
    "> CHALLENGE 1: The highest scores will get free chocolates!\n",
    "\n",
    "[Play here](http://puzzle.prenda.co/main)\n",
    "\n",
    "NOTE: the website may ask you to complete a short survey for their own purposes. This is not from us course instructors, so feel free to write what you want. \n",
    "\n",
    "More free coding games can be also found [here](https://studio.code.org/s/course1/lessons/13/levels/1)."
   ]
  },
  {
   "attachments": {},
   "cell_type": "markdown",
   "metadata": {},
   "source": [
    "## Builtin Functions, Assignments, and Variables"
   ]
  },
  {
   "attachments": {},
   "cell_type": "markdown",
   "metadata": {},
   "source": [
    "In the command we just executed we used the `print()` **built-in function** which allows us to print out useful information. You can recognize Python functions by the use of round parantheses. Inside the parentheses you can pass **arguments** to the function, but in many cases you can just call a function without any argument."
   ]
  },
  {
   "attachments": {},
   "cell_type": "markdown",
   "metadata": {},
   "source": [
    "Remember that in addition to Markdown, you can (should) add comments directly to your programs with the `#` symbol"
   ]
  },
  {
   "cell_type": "code",
   "execution_count": null,
   "metadata": {},
   "outputs": [],
   "source": [
    "# This is a comment"
   ]
  },
  {
   "cell_type": "code",
   "execution_count": null,
   "metadata": {},
   "outputs": [],
   "source": [
    "print(\"Hello world!\") # Comments can also stay in the same line as the actual code"
   ]
  },
  {
   "attachments": {},
   "cell_type": "markdown",
   "metadata": {},
   "source": [
    "A somewhat useful built-in function is `dir()`, which allows you to explore the components of a module or class. For example, we could use it to check all the builtins of Python"
   ]
  },
  {
   "cell_type": "code",
   "execution_count": null,
   "metadata": {},
   "outputs": [],
   "source": [
    "#dir(__builtins__) # remove the first # to see the output of this command"
   ]
  },
  {
   "attachments": {},
   "cell_type": "markdown",
   "metadata": {},
   "source": [
    "A very useful built-in function is `help()`, which provides information on any other pyhon function or variable. You may not be able to understand everything that `help()` returns, but it is usually a good place to start if you don't know what you are doing. "
   ]
  },
  {
   "cell_type": "code",
   "execution_count": null,
   "metadata": {},
   "outputs": [],
   "source": [
    "help(print)"
   ]
  },
  {
   "attachments": {},
   "cell_type": "markdown",
   "metadata": {},
   "source": [
    "The argument we passed to the function before is some text between quotes. This kind of object is called a string (`str`). We can always check the type of an object or variable by using the built-in `type()` function."
   ]
  },
  {
   "cell_type": "code",
   "execution_count": null,
   "metadata": {},
   "outputs": [],
   "source": [
    "type(\"Hello world!\")"
   ]
  },
  {
   "attachments": {},
   "cell_type": "markdown",
   "metadata": {},
   "source": [
    "Usually in programming we like to **assign** labels to objects, so that we can use them in different parts of the code. The assignment operator is the `=` symbol. "
   ]
  },
  {
   "cell_type": "code",
   "execution_count": null,
   "metadata": {},
   "outputs": [],
   "source": [
    "a=\"Hello world!\""
   ]
  },
  {
   "attachments": {},
   "cell_type": "markdown",
   "metadata": {},
   "source": [
    "The same operations you did on the string before can now be performed on the variable `a`"
   ]
  },
  {
   "cell_type": "code",
   "execution_count": null,
   "metadata": {},
   "outputs": [],
   "source": [
    "print(a)"
   ]
  },
  {
   "cell_type": "code",
   "execution_count": null,
   "metadata": {},
   "outputs": [],
   "source": [
    "type(a)"
   ]
  },
  {
   "attachments": {},
   "cell_type": "markdown",
   "metadata": {},
   "source": [
    "## Math Operations and Variables"
   ]
  },
  {
   "attachments": {},
   "cell_type": "markdown",
   "metadata": {},
   "source": [
    "Let us look at using Python for some basic math:"
   ]
  },
  {
   "cell_type": "code",
   "execution_count": null,
   "metadata": {},
   "outputs": [],
   "source": [
    "1+1"
   ]
  },
  {
   "cell_type": "code",
   "execution_count": null,
   "metadata": {},
   "outputs": [],
   "source": [
    "1+2*3+4/2"
   ]
  },
  {
   "cell_type": "markdown",
   "metadata": {},
   "source": [
    "Order of operations matter"
   ]
  },
  {
   "cell_type": "code",
   "execution_count": null,
   "metadata": {},
   "outputs": [],
   "source": [
    "9/2+1"
   ]
  },
  {
   "cell_type": "markdown",
   "metadata": {},
   "source": [
    "The above is different from"
   ]
  },
  {
   "cell_type": "code",
   "execution_count": null,
   "metadata": {},
   "outputs": [],
   "source": [
    "9/(2+1)"
   ]
  },
  {
   "cell_type": "markdown",
   "metadata": {},
   "source": [
    "If in doubts use parentheses!!!"
   ]
  },
  {
   "attachments": {},
   "cell_type": "markdown",
   "metadata": {},
   "source": [
    "The power operator is written with two axterisks as `**`"
   ]
  },
  {
   "cell_type": "code",
   "execution_count": null,
   "metadata": {},
   "outputs": [],
   "source": [
    "2**3"
   ]
  },
  {
   "attachments": {},
   "cell_type": "markdown",
   "metadata": {},
   "source": [
    "More basic math operations include divisions between integers: floor operator `//` and reminder `%`"
   ]
  },
  {
   "cell_type": "code",
   "execution_count": null,
   "metadata": {},
   "outputs": [],
   "source": [
    "5//2"
   ]
  },
  {
   "cell_type": "code",
   "execution_count": null,
   "metadata": {},
   "outputs": [],
   "source": [
    "5%2"
   ]
  },
  {
   "attachments": {},
   "cell_type": "markdown",
   "metadata": {},
   "source": [
    "We can (should) use variables to do math as well"
   ]
  },
  {
   "cell_type": "code",
   "execution_count": null,
   "metadata": {},
   "outputs": [],
   "source": [
    "x=1\n",
    "print(x+1)"
   ]
  },
  {
   "attachments": {},
   "cell_type": "markdown",
   "metadata": {},
   "source": [
    "Note that the assignment operator `=` has not the same meaning as the equal symbol in math. With the `=` operator we are just saying that what is on the right will be given the label written on the left. Python will perform the operations on the right of the equal sign and then associate a name (on the left) with the result!"
   ]
  },
  {
   "cell_type": "code",
   "execution_count": null,
   "metadata": {},
   "outputs": [],
   "source": [
    "x=x+1\n",
    "print(x)\n",
    "# since the name on the left is the same as the variable on the right, the command is overwriting it"
   ]
  },
  {
   "attachments": {},
   "cell_type": "markdown",
   "metadata": {},
   "source": [
    "> CHALLENGE 2: What kind of variable is x? What other numerical variables exist in Python?"
   ]
  },
  {
   "attachments": {},
   "cell_type": "markdown",
   "metadata": {},
   "source": [
    "We can often build a variable of a specific type by using the type name as a function (these are called **constructors**) and pasing it an appropriate argument."
   ]
  },
  {
   "attachments": {},
   "cell_type": "markdown",
   "metadata": {},
   "source": [
    "It is a good idea, when creating variable names, to be as descriptive as possible.\n",
    "It helps in understanding your code later on"
   ]
  },
  {
   "cell_type": "code",
   "execution_count": null,
   "metadata": {},
   "outputs": [],
   "source": [
    "temperature_in_C = 20\n",
    "temperature_in_F = temperature_in_C * 9/5 + 32\n",
    "print(temperature_in_C,temperature_in_F)"
   ]
  },
  {
   "attachments": {},
   "cell_type": "markdown",
   "metadata": {},
   "source": [
    "## Formatting"
   ]
  },
  {
   "attachments": {},
   "cell_type": "markdown",
   "metadata": {},
   "source": [
    "While for most testing purposes it is more than ok to just print whatever variable you are interested in, when you report your results you probably want to specify the format of the numbers that you print out. This can be done in a bunch of different ways, but we can stick with using the `str.format()` method. Let's see an example:"
   ]
  },
  {
   "cell_type": "code",
   "execution_count": null,
   "metadata": {},
   "outputs": [],
   "source": [
    "print(\"T = {} Celsius corresponds to T = {} Fahrenheit\".format(temperature_in_C,temperature_in_F))"
   ]
  },
  {
   "attachments": {},
   "cell_type": "markdown",
   "metadata": {},
   "source": [
    "In the string above we introduced two placeholders using the curly brackets `{}`. in the `format()` method we then passed the actual variables in the correct order. We can now specify the format of the numbers, specifying how many digits to report and how many decimal digits, and wheter to use a scientific notation or a normal floating point notation."
   ]
  },
  {
   "cell_type": "code",
   "execution_count": null,
   "metadata": {},
   "outputs": [],
   "source": [
    "print(\"T = {:3.1f} Celsius corresponds to T = {:3.1f} Fahrenheit\".format(temperature_in_C,temperature_in_F))"
   ]
  },
  {
   "attachments": {},
   "cell_type": "markdown",
   "metadata": {},
   "source": [
    "The format above specifies that we want floating point numbers (the `f`) with 3 total digits, 1 of which after the dot. "
   ]
  },
  {
   "cell_type": "code",
   "execution_count": null,
   "metadata": {},
   "outputs": [],
   "source": [
    "print(\"T = {:.2e} Celsius corresponds to T = {:.2e} Fahrenheit\".format(temperature_in_C,temperature_in_F))"
   ]
  },
  {
   "attachments": {},
   "cell_type": "markdown",
   "metadata": {},
   "source": [
    "The format above specifies that we want a scientific notation (the `e`) with 2 digits after the dot (so a total of 3 significant figures). You can find way more information on formatting strings online. A good (even too detailed) reference is the Python 3 documentation [here](https://docs.python.org/3/library/string.html#string-formatting)."
   ]
  },
  {
   "attachments": {},
   "cell_type": "markdown",
   "metadata": {},
   "source": [
    "## Math Operations Beyond Standard Python"
   ]
  },
  {
   "attachments": {},
   "cell_type": "markdown",
   "metadata": {},
   "source": [
    "Any math opeartion beyon the ones described above requires you to use additional **modules**. Most of these additional modules are still distributed together with the main distribution of Python, but in order to access their features you have to explicitly **import** them."
   ]
  },
  {
   "attachments": {},
   "cell_type": "markdown",
   "metadata": {},
   "source": [
    "The most useful module to do math operation, linear algebra, and statistics is probably Numpy (standing for Numerical Python). You can access Numpy using the `import` command. There are proper and dirty ways of using `import`, make sure you don't make your life more miserable. Importing a module can be done in several different ways: the following is the shortest one"
   ]
  },
  {
   "cell_type": "code",
   "execution_count": null,
   "metadata": {},
   "outputs": [],
   "source": [
    "import numpy"
   ]
  },
  {
   "attachments": {},
   "cell_type": "markdown",
   "metadata": {},
   "source": [
    "We can check what is in numpy with the dir() command (try yourself, here I will comment this out as it is a very long list)"
   ]
  },
  {
   "cell_type": "code",
   "execution_count": null,
   "metadata": {},
   "outputs": [],
   "source": [
    "#dir(numpy)"
   ]
  },
  {
   "attachments": {},
   "cell_type": "markdown",
   "metadata": {},
   "source": [
    "We can use one of the numpy functions using the `.` notation, as follows:"
   ]
  },
  {
   "cell_type": "code",
   "execution_count": null,
   "metadata": {},
   "outputs": [],
   "source": [
    "numpy.sqrt(2.0)"
   ]
  },
  {
   "attachments": {},
   "cell_type": "markdown",
   "metadata": {},
   "source": [
    "You can think about the `.` notation as if the module is a new tab and you want to specify which of the tab's components you want to use. The above works well, but it often cumbersome to always write numpy before the functions, we can be more lazy and use an abbreviation (alias)"
   ]
  },
  {
   "cell_type": "code",
   "execution_count": null,
   "metadata": {},
   "outputs": [],
   "source": [
    "import numpy as np\n",
    "np.sqrt(2.0)"
   ]
  },
  {
   "cell_type": "markdown",
   "metadata": {},
   "source": [
    "If we need just one specific feature of numpy, we can select it explicitly as follows"
   ]
  },
  {
   "cell_type": "code",
   "execution_count": null,
   "metadata": {},
   "outputs": [],
   "source": [
    "from numpy import sqrt"
   ]
  },
  {
   "cell_type": "markdown",
   "metadata": {},
   "source": [
    "In this case, we no longer need to use the 'dot' notation"
   ]
  },
  {
   "cell_type": "code",
   "execution_count": null,
   "metadata": {},
   "outputs": [],
   "source": [
    "sqrt(2.0)"
   ]
  },
  {
   "cell_type": "markdown",
   "metadata": {},
   "source": [
    "However we should avoid to be too lazy and import all the functionalities like this"
   ]
  },
  {
   "cell_type": "code",
   "execution_count": null,
   "metadata": {},
   "outputs": [],
   "source": [
    "from numpy import *\n",
    "sqrt(2.0)"
   ]
  },
  {
   "attachments": {},
   "cell_type": "markdown",
   "metadata": {},
   "source": [
    "It works, but in this way if we are not experts of numpy or we import several different modules we may not know where the sqrt() function comes from: there is no explicit connection to the numpy module anywhere in the code. The code works, but we are making it less easy to follow and debug."
   ]
  },
  {
   "attachments": {},
   "cell_type": "markdown",
   "metadata": {},
   "source": [
    "> CHALLENGE 3: We want to compute the value of the function \n",
    "$f(x)=e^{-\\frac{(x-\\mu)^2}{2\\sigma^2}}$ for $x=1.5$, $\\mu=1.7$, and $\\sigma=0.5$"
   ]
  },
  {
   "attachments": {},
   "cell_type": "markdown",
   "metadata": {},
   "source": [
    "## Boolean Variables and Conditionals"
   ]
  },
  {
   "attachments": {},
   "cell_type": "markdown",
   "metadata": {},
   "source": [
    "Apart from int, float, complex, there is one more scalar data type in python (i.e. a data type that is not structured): Boolean. A Boolean variable (`bool`) can have one of two values: `True` or `False`. "
   ]
  },
  {
   "cell_type": "code",
   "execution_count": null,
   "metadata": {},
   "outputs": [],
   "source": [
    "a=True\n",
    "b=False"
   ]
  },
  {
   "cell_type": "markdown",
   "metadata": {},
   "source": [
    "Operations between booleans are the logic operations: and, or, not"
   ]
  },
  {
   "cell_type": "code",
   "execution_count": null,
   "metadata": {},
   "outputs": [],
   "source": [
    "a and b"
   ]
  },
  {
   "cell_type": "code",
   "execution_count": null,
   "metadata": {},
   "outputs": [],
   "source": [
    "a or b"
   ]
  },
  {
   "attachments": {},
   "cell_type": "markdown",
   "metadata": {},
   "source": [
    "Logical operations can be combined together. Like for arithmetics, the order of operations is fixed, but parentheses help to get what you want"
   ]
  },
  {
   "cell_type": "code",
   "execution_count": null,
   "metadata": {},
   "outputs": [],
   "source": [
    "not( a and a )"
   ]
  },
  {
   "attachments": {},
   "cell_type": "markdown",
   "metadata": {},
   "source": [
    "Boolean quantities are always used (under the hood) when using conditional blocks. A conditional block is a block of commands that are only executed if a condition is true. Possibly, an alternative set of commands will be executed if the condition is false. NOTE: to decide which commands are part of the block Python uses **indentation**, anything that is at the same level of indentantion is part of the same block of commands."
   ]
  },
  {
   "cell_type": "code",
   "execution_count": null,
   "metadata": {},
   "outputs": [],
   "source": [
    "if a :\n",
    "    print('a is true :)')\n",
    "else :\n",
    "    print('a is false :(')"
   ]
  },
  {
   "attachments": {},
   "cell_type": "markdown",
   "metadata": {},
   "source": [
    "Quite often conditional blocks are used to check that variables used in math expressions are the right type and fall in the right range. For example, say that we want to compute $1/\\log(x)$ for an arbitrary value of $x$. We can have the user enter x, but before computing the expression we want to make sure that the value entered by the user is correct."
   ]
  },
  {
   "cell_type": "code",
   "execution_count": null,
   "metadata": {},
   "outputs": [],
   "source": [
    "x=float(input('Enter a value of x'))\n",
    "print('The value of x entered is = ',x)\n",
    "if x == 1 :\n",
    "    print('This value is not allowed: it leads to a division by zero')\n",
    "elif x < 0 :\n",
    "    print('This value is not allowed: the argument of the log must be positive')\n",
    "else :\n",
    "    print('the inverse of the logarithm of x is = ',1/np.log(x))"
   ]
  },
  {
   "attachments": {},
   "cell_type": "markdown",
   "metadata": {},
   "source": [
    "Note that in the code above we used the built-in `input()` function, that allows the user to enter a value upon execution. The function reads the user input as a string, so it needs to be converted into a number in order to be able to do math with it. "
   ]
  },
  {
   "attachments": {},
   "cell_type": "markdown",
   "metadata": {},
   "source": [
    "In the case above, the boolean expression used by the `if` construct is obtained using comparison operators. These operators allow to compare objects and return `True` or `False` results. In particular we can compare two numbers (but also strings or other data types).\n",
    "Typical operators are `>=`, `<`, `==`, `!=`"
   ]
  },
  {
   "cell_type": "code",
   "execution_count": null,
   "metadata": {},
   "outputs": [],
   "source": [
    "a=1\n",
    "b=2\n",
    "print('is a equal to b?',a==b)\n",
    "print('is a smaller or equal to b?',a<=b)"
   ]
  },
  {
   "cell_type": "markdown",
   "metadata": {},
   "source": [
    "If the expression feeded to while does not return a boolean, it is converted to a boolean, same as the bool() constructor. For example, an integer value will be interpreted as True if different from 0, False if equal to 0."
   ]
  },
  {
   "attachments": {},
   "cell_type": "markdown",
   "metadata": {},
   "source": [
    "## Iterable Variables and Loops"
   ]
  },
  {
   "attachments": {},
   "cell_type": "markdown",
   "metadata": {},
   "source": [
    "The key component of programming is the ability to perform the same set of operations multiple times. There are two main loop commands in Python, `for` and `while`. In virtually all of the cases you can build the same loop with both commands, sometimes one approach is much simpler to write than the other, but you can just learn one and stick with it. To keep things simple we will only focus on `for` loops. "
   ]
  },
  {
   "attachments": {},
   "cell_type": "markdown",
   "metadata": {},
   "source": [
    "Let's suppose we want to compute the function $f(x)=e^{-\\frac{(x-\\mu)^2}{2\\sigma^2}}$ with $\\mu=1.7$, $\\sigma=0.5$, but for multiple values of the variable $x$. Instead of copying the same command multiple times we can setup a loop that goes over the different values of x and perform the calculation one value at the time. "
   ]
  },
  {
   "cell_type": "code",
   "execution_count": null,
   "metadata": {},
   "outputs": [],
   "source": [
    "mu=1.7\n",
    "sigma=0.5\n",
    "for x in [1.2, 1.4, 1.6, 1.8]:\n",
    "    g=x # copy the math expression performed above\n",
    "    print(x,g)"
   ]
  },
  {
   "attachments": {},
   "cell_type": "markdown",
   "metadata": {},
   "source": [
    "In the loop above we are performing the same operation on every entry of a structured object, an object that has multiple components. In this specific example the object is defined using squared parentheses `[]` and it is called a `list`. Python lists are one specific type of iterable object. Lists have many useful features and functions associated with them, but it goes beyond the scope of this course to explain all of their details. The following are the most useful properties that you may need for this course. \n",
    "\n",
    "You may want to access a specific element of the list by providing its index. "
   ]
  },
  {
   "cell_type": "code",
   "execution_count": null,
   "metadata": {},
   "outputs": [],
   "source": [
    "values=[1.2, 1.4, 1.6, 1.8]\n",
    "print(values[2])"
   ]
  },
  {
   "attachments": {},
   "cell_type": "markdown",
   "metadata": {},
   "source": [
    "Note that the indexing in Python starts from 0... "
   ]
  },
  {
   "attachments": {},
   "cell_type": "markdown",
   "metadata": {},
   "source": [
    "Another useful opeartion on list is to add a new value at the end of an existing list. This can be done with the `list.append()` method. "
   ]
  },
  {
   "cell_type": "code",
   "execution_count": null,
   "metadata": {},
   "outputs": [],
   "source": [
    "values.append(2.0)\n",
    "print(values)"
   ]
  },
  {
   "attachments": {},
   "cell_type": "markdown",
   "metadata": {},
   "source": [
    "The operation above allows to use lists as containers in which we collect results, as we can just append new results at each iteration."
   ]
  },
  {
   "cell_type": "code",
   "execution_count": null,
   "metadata": {},
   "outputs": [],
   "source": [
    "y=[] # this is an empty list\n",
    "for x in values:\n",
    "    y.append(2*x-2)\n",
    "print(y)"
   ]
  },
  {
   "attachments": {},
   "cell_type": "markdown",
   "metadata": {},
   "source": [
    "Another very conveniente iterable object is the one returned by the `range()` function, which returns a set of integer numbers. Traditionally in programming many loops are designed in terms of an integer iterable variable. The `range` object allows you to setup these kind of loops quite easily"
   ]
  },
  {
   "cell_type": "code",
   "execution_count": null,
   "metadata": {},
   "outputs": [],
   "source": [
    "for i in range(4):\n",
    "    print(i)"
   ]
  },
  {
   "attachments": {},
   "cell_type": "markdown",
   "metadata": {},
   "source": [
    "The `range()` function accepts additional arguments, which allow to specify a different starting value and a step size. For example, we can start from the integer -3 and take a step of 2 integers as follows:"
   ]
  },
  {
   "cell_type": "code",
   "execution_count": null,
   "metadata": {},
   "outputs": [],
   "source": [
    "for i in range(-3,4,2):\n",
    "    print(i)"
   ]
  },
  {
   "attachments": {},
   "cell_type": "markdown",
   "metadata": {},
   "source": [
    "> CHALLENGE 4: Write a code that computes the sum of the first $n$ integers"
   ]
  },
  {
   "attachments": {},
   "cell_type": "markdown",
   "metadata": {},
   "source": [
    "## More on Loops"
   ]
  },
  {
   "attachments": {},
   "cell_type": "markdown",
   "metadata": {},
   "source": [
    "Combining loops and conditionals is a very typical strategy for more complex algorithms. In general, two things that you may want to do are:\n",
    "1. to break out of a loop when a certain condition is met\n",
    "2. to skip a specific iteration of a loop\n",
    "\n",
    "You can achieve the first task by using the `break` command"
   ]
  },
  {
   "cell_type": "code",
   "execution_count": null,
   "metadata": {},
   "outputs": [],
   "source": [
    "x=2.0\n",
    "for i in range(10):\n",
    "    x=x-0.4\n",
    "    print(x)\n",
    "    if x < 0 : break"
   ]
  },
  {
   "attachments": {},
   "cell_type": "markdown",
   "metadata": {},
   "source": [
    "You can achieve the second task by using the `continue` command"
   ]
  },
  {
   "cell_type": "code",
   "execution_count": null,
   "metadata": {},
   "outputs": [],
   "source": [
    "x=2.0\n",
    "for i in range(10):\n",
    "    x=x-0.4\n",
    "    if abs(x) < 1.e-10 : continue\n",
    "    print(\"{: 4.2f}\".format(x))"
   ]
  },
  {
   "attachments": {},
   "cell_type": "markdown",
   "metadata": {},
   "source": [
    "## Numpy Arrays"
   ]
  },
  {
   "attachments": {},
   "cell_type": "markdown",
   "metadata": {},
   "source": [
    "While lists are very useful, for scientific purposes we should really focus on Numpy arrays, which are similar to lists, but have several additional and incredibly useful features. We can create an array with $n$ zeros or ones using the corresponding Numpy functions: "
   ]
  },
  {
   "cell_type": "code",
   "execution_count": null,
   "metadata": {},
   "outputs": [],
   "source": [
    "a=np.zeros(3)\n",
    "print(a)"
   ]
  },
  {
   "cell_type": "code",
   "execution_count": null,
   "metadata": {},
   "outputs": [],
   "source": [
    "b=np.ones(4)\n",
    "print(b)"
   ]
  },
  {
   "attachments": {},
   "cell_type": "markdown",
   "metadata": {},
   "source": [
    "These are arrays with a single index (in linear algebra we would call them vectors, or rank-1 arrays). However, numpy allows to create arrays with an arbitrary number of ranks, such as matrices (rank-2, i.e. two indexes) or tensors. In order to do that, you would need to pass the number of values for each index between round parentheses, as follows: "
   ]
  },
  {
   "cell_type": "code",
   "execution_count": null,
   "metadata": {},
   "outputs": [],
   "source": [
    "a_matrix = np.ones((3,3))\n",
    "print(a_matrix)"
   ]
  },
  {
   "attachments": {},
   "cell_type": "markdown",
   "metadata": {},
   "source": [
    "Numpy has two ways of defining an array with values at regular intervals. The `Numpy.arange()` function is equivalent to the `range()` function, but it extends it to non-integer values."
   ]
  },
  {
   "cell_type": "code",
   "execution_count": null,
   "metadata": {},
   "outputs": [],
   "source": [
    "values=np.arange(1.2,2.0,0.2) # as for range() the arguments are (start-included,end-excluded,step)\n",
    "print(values)"
   ]
  },
  {
   "attachments": {},
   "cell_type": "markdown",
   "metadata": {},
   "source": [
    "Alternatively, if we want the end-points to be included in the array and we know how many steps, we can use the `Numpy.linspace()` function as follows:"
   ]
  },
  {
   "cell_type": "code",
   "execution_count": null,
   "metadata": {},
   "outputs": [],
   "source": [
    "values=np.linspace(1.2,2.0,5)\n",
    "print(values)"
   ]
  },
  {
   "attachments": {},
   "cell_type": "markdown",
   "metadata": {},
   "source": [
    "In addition to regular-spaced values, Numpy can also generate random numbers in the $[0,1)$ interval or in an arbitrary $[a,b)$ interval using the `Numpy.random.random()` and `Numpy.random.uniform()` functions."
   ]
  },
  {
   "cell_type": "code",
   "execution_count": null,
   "metadata": {},
   "outputs": [],
   "source": [
    "values=np.random.random(2) # this will generate two random numbers between 0 (included) and 1 (excluded)\n",
    "print(values) "
   ]
  },
  {
   "cell_type": "code",
   "execution_count": null,
   "metadata": {},
   "outputs": [],
   "source": [
    "values=np.random.uniform(1.2,2.0,3) # this will generate three random numbers between 1.2 (included) and 2.0 (excluded)\n",
    "print(values) "
   ]
  },
  {
   "attachments": {},
   "cell_type": "markdown",
   "metadata": {},
   "source": [
    "> CHALLENGE 5: Write a set of commands to compute $\\pi$ using a Montecarlo algorithm. Write a loop where at each iteration we draw two random numbers between 0 and 1. If the sum of the squares of the two numbers is less than 1, the iteration is a success, otherwise it is a fail. $\\pi$ will be given by 4.0 times the ratio of successes over the total number of iterations. "
   ]
  },
  {
   "attachments": {},
   "cell_type": "markdown",
   "metadata": {},
   "source": [
    "The super-cool feature of Numpy arrays is that opeartions that act on individual elements of the array can be written in an implicit way, without using loops. For example, we could compute the square root of the above values all at once as follows"
   ]
  },
  {
   "cell_type": "code",
   "execution_count": null,
   "metadata": {},
   "outputs": [],
   "source": [
    "sqrt_of_values=np.sqrt(values)\n",
    "print(sqrt_of_values)"
   ]
  },
  {
   "attachments": {},
   "cell_type": "markdown",
   "metadata": {},
   "source": [
    "## Visualization"
   ]
  },
  {
   "attachments": {},
   "cell_type": "markdown",
   "metadata": {},
   "source": [
    "There are multiple modules to visualize data in Python. One of the most widespread tools is Matplotlib and its submodule Pyplot. You can use any tool you feel comfortable with, but the important is that plots are clear and well formatted. You can import Pyplot as follows:"
   ]
  },
  {
   "cell_type": "code",
   "execution_count": null,
   "metadata": {},
   "outputs": [],
   "source": [
    "import matplotlib.pyplot as plt # again we are using an alias because we are fundamentally lazy"
   ]
  },
  {
   "attachments": {},
   "cell_type": "markdown",
   "metadata": {},
   "source": [
    "We can make a simple scatter plot using the `Pyplot.scatter()` function. While interactive notebooks will probably show you the plot anyway, it is a good practice of adding the `Pyplot.show()` function at the end of the commands. "
   ]
  },
  {
   "cell_type": "code",
   "execution_count": null,
   "metadata": {},
   "outputs": [],
   "source": [
    "x=[0, 2., 3., 4.]\n",
    "y=[1.2, 2.4, 3.6, 4.8]\n",
    "plt.scatter(x,y)\n",
    "plt.show()"
   ]
  },
  {
   "attachments": {},
   "cell_type": "markdown",
   "metadata": {},
   "source": [
    "You can do line plots with the `Pyplot.plot()` function, bar plots with `Pyplot.bar()`, and many other types of plots. You can find examples and very good introductory tutorial online, e.g. [here](https://matplotlib.org/stable/tutorials/introductory/pyplot.html)."
   ]
  },
  {
   "attachments": {},
   "cell_type": "markdown",
   "metadata": {},
   "source": [
    "> CHALLENGE 6: Make a plot to visualize the Gaussian function defined above over a reasonable range of the variable $x$. Add labels to your axis (make up what you need), make all the text clearly visible, make the plot look nice. Nicest-looking plot wins."
   ]
  }
 ],
 "metadata": {
  "kernelspec": {
   "display_name": "Python 3",
   "language": "python",
   "name": "python3"
  },
  "language_info": {
   "codemirror_mode": {
    "name": "ipython",
    "version": 3
   },
   "file_extension": ".py",
   "mimetype": "text/x-python",
   "name": "python",
   "nbconvert_exporter": "python",
   "pygments_lexer": "ipython3"
  },
  "vscode": {
   "interpreter": {
    "hash": "949777d72b0d2535278d3dc13498b2535136f6dfe0678499012e853ee9abcab1"
   }
  }
 },
 "nbformat": 4,
 "nbformat_minor": 2
}
